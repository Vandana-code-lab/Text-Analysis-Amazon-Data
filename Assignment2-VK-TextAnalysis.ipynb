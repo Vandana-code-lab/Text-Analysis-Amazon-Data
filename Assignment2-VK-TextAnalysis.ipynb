{
 "cells": [
  {
   "cell_type": "code",
   "execution_count": 4,
   "metadata": {},
   "outputs": [],
   "source": [
    "#Load the libraries\n",
    "import numpy as np\n",
    "import pandas as pd\n",
    "import seaborn as sns\n",
    "import matplotlib.pyplot as plt\n",
    "import nltk\n",
    "from sklearn.feature_extraction.text import CountVectorizer\n",
    "from sklearn.feature_extraction.text import TfidfVectorizer\n",
    "from sklearn.preprocessing import LabelBinarizer\n",
    "from nltk.corpus import stopwords\n",
    "from nltk.stem.porter import PorterStemmer\n",
    "from wordcloud import WordCloud,STOPWORDS\n",
    "from nltk.stem import WordNetLemmatizer\n",
    "from nltk.tokenize import word_tokenize,sent_tokenize\n",
    "from bs4 import BeautifulSoup\n",
    "import spacy\n",
    "import re,string,unicodedata\n",
    "from nltk.tokenize.toktok import ToktokTokenizer\n",
    "from nltk.stem import LancasterStemmer,WordNetLemmatizer\n",
    "from sklearn.linear_model import LogisticRegression,SGDClassifier\n",
    "from sklearn.naive_bayes import MultinomialNB\n",
    "from sklearn.svm import SVC\n",
    "from sklearn.metrics import classification_report,confusion_matrix,accuracy_score\n",
    "import nltk"
   ]
  },
  {
   "cell_type": "code",
   "execution_count": 8,
   "metadata": {},
   "outputs": [
    {
     "data": {
      "text/html": [
       "<div>\n",
       "<style scoped>\n",
       "    .dataframe tbody tr th:only-of-type {\n",
       "        vertical-align: middle;\n",
       "    }\n",
       "\n",
       "    .dataframe tbody tr th {\n",
       "        vertical-align: top;\n",
       "    }\n",
       "\n",
       "    .dataframe thead th {\n",
       "        text-align: right;\n",
       "    }\n",
       "</style>\n",
       "<table border=\"1\" class=\"dataframe\">\n",
       "  <thead>\n",
       "    <tr style=\"text-align: right;\">\n",
       "      <th></th>\n",
       "      <th>Unnamed: 0</th>\n",
       "      <th>asin</th>\n",
       "      <th>helpful</th>\n",
       "      <th>overall</th>\n",
       "      <th>reviewText</th>\n",
       "      <th>reviewTime</th>\n",
       "      <th>reviewerID</th>\n",
       "      <th>reviewerName</th>\n",
       "      <th>summary</th>\n",
       "      <th>unixReviewTime</th>\n",
       "    </tr>\n",
       "  </thead>\n",
       "  <tbody>\n",
       "    <tr>\n",
       "      <td>0</td>\n",
       "      <td>0</td>\n",
       "      <td>528881469</td>\n",
       "      <td>[0, 0]</td>\n",
       "      <td>5</td>\n",
       "      <td>We got this GPS for my husband who is an (OTR)...</td>\n",
       "      <td>06 2, 2013</td>\n",
       "      <td>AO94DHGC771SJ</td>\n",
       "      <td>amazdnu</td>\n",
       "      <td>Gotta have GPS!</td>\n",
       "      <td>1370131200</td>\n",
       "    </tr>\n",
       "    <tr>\n",
       "      <td>1</td>\n",
       "      <td>1</td>\n",
       "      <td>528881469</td>\n",
       "      <td>[12, 15]</td>\n",
       "      <td>1</td>\n",
       "      <td>I'm a professional OTR truck driver, and I bou...</td>\n",
       "      <td>11 25, 2010</td>\n",
       "      <td>AMO214LNFCEI4</td>\n",
       "      <td>Amazon Customer</td>\n",
       "      <td>Very Disappointed</td>\n",
       "      <td>1290643200</td>\n",
       "    </tr>\n",
       "    <tr>\n",
       "      <td>2</td>\n",
       "      <td>2</td>\n",
       "      <td>528881469</td>\n",
       "      <td>[43, 45]</td>\n",
       "      <td>3</td>\n",
       "      <td>Well, what can I say.  I've had this unit in m...</td>\n",
       "      <td>09 9, 2010</td>\n",
       "      <td>A3N7T0DY83Y4IG</td>\n",
       "      <td>C. A. Freeman</td>\n",
       "      <td>1st impression</td>\n",
       "      <td>1283990400</td>\n",
       "    </tr>\n",
       "    <tr>\n",
       "      <td>3</td>\n",
       "      <td>3</td>\n",
       "      <td>528881469</td>\n",
       "      <td>[9, 10]</td>\n",
       "      <td>2</td>\n",
       "      <td>Not going to write a long review, even thought...</td>\n",
       "      <td>11 24, 2010</td>\n",
       "      <td>A1H8PY3QHMQQA0</td>\n",
       "      <td>Dave M. Shaw \"mack dave\"</td>\n",
       "      <td>Great grafics, POOR GPS</td>\n",
       "      <td>1290556800</td>\n",
       "    </tr>\n",
       "    <tr>\n",
       "      <td>4</td>\n",
       "      <td>4</td>\n",
       "      <td>528881469</td>\n",
       "      <td>[0, 0]</td>\n",
       "      <td>1</td>\n",
       "      <td>I've had mine for a year and here's what we go...</td>\n",
       "      <td>09 29, 2011</td>\n",
       "      <td>A24EV6RXELQZ63</td>\n",
       "      <td>Wayne Smith</td>\n",
       "      <td>Major issues, only excuses for support</td>\n",
       "      <td>1317254400</td>\n",
       "    </tr>\n",
       "  </tbody>\n",
       "</table>\n",
       "</div>"
      ],
      "text/plain": [
       "   Unnamed: 0       asin   helpful  overall  \\\n",
       "0           0  528881469    [0, 0]        5   \n",
       "1           1  528881469  [12, 15]        1   \n",
       "2           2  528881469  [43, 45]        3   \n",
       "3           3  528881469   [9, 10]        2   \n",
       "4           4  528881469    [0, 0]        1   \n",
       "\n",
       "                                          reviewText   reviewTime  \\\n",
       "0  We got this GPS for my husband who is an (OTR)...   06 2, 2013   \n",
       "1  I'm a professional OTR truck driver, and I bou...  11 25, 2010   \n",
       "2  Well, what can I say.  I've had this unit in m...   09 9, 2010   \n",
       "3  Not going to write a long review, even thought...  11 24, 2010   \n",
       "4  I've had mine for a year and here's what we go...  09 29, 2011   \n",
       "\n",
       "       reviewerID              reviewerName  \\\n",
       "0   AO94DHGC771SJ                   amazdnu   \n",
       "1   AMO214LNFCEI4           Amazon Customer   \n",
       "2  A3N7T0DY83Y4IG             C. A. Freeman   \n",
       "3  A1H8PY3QHMQQA0  Dave M. Shaw \"mack dave\"   \n",
       "4  A24EV6RXELQZ63               Wayne Smith   \n",
       "\n",
       "                                  summary  unixReviewTime  \n",
       "0                         Gotta have GPS!      1370131200  \n",
       "1                       Very Disappointed      1290643200  \n",
       "2                          1st impression      1283990400  \n",
       "3                 Great grafics, POOR GPS      1290556800  \n",
       "4  Major issues, only excuses for support      1317254400  "
      ]
     },
     "execution_count": 8,
     "metadata": {},
     "output_type": "execute_result"
    }
   ],
   "source": [
    "#importing the data\n",
    "amazon_reviews = pd.read_excel(r'/Users/ashish/Documents/Amzon_review_csv.xlsm')\n",
    "amazon_reviews.head()"
   ]
  },
  {
   "cell_type": "code",
   "execution_count": 9,
   "metadata": {},
   "outputs": [
    {
     "data": {
      "text/plain": [
       "(999, 10)"
      ]
     },
     "execution_count": 9,
     "metadata": {},
     "output_type": "execute_result"
    }
   ],
   "source": [
    "amazon_reviews.shape"
   ]
  },
  {
   "cell_type": "code",
   "execution_count": 10,
   "metadata": {},
   "outputs": [
    {
     "data": {
      "text/html": [
       "<div>\n",
       "<style scoped>\n",
       "    .dataframe tbody tr th:only-of-type {\n",
       "        vertical-align: middle;\n",
       "    }\n",
       "\n",
       "    .dataframe tbody tr th {\n",
       "        vertical-align: top;\n",
       "    }\n",
       "\n",
       "    .dataframe thead th {\n",
       "        text-align: right;\n",
       "    }\n",
       "</style>\n",
       "<table border=\"1\" class=\"dataframe\">\n",
       "  <thead>\n",
       "    <tr style=\"text-align: right;\">\n",
       "      <th></th>\n",
       "      <th>reviewText</th>\n",
       "      <th>overall</th>\n",
       "    </tr>\n",
       "  </thead>\n",
       "  <tbody>\n",
       "    <tr>\n",
       "      <td>0</td>\n",
       "      <td>We got this GPS for my husband who is an (OTR)...</td>\n",
       "      <td>5</td>\n",
       "    </tr>\n",
       "    <tr>\n",
       "      <td>1</td>\n",
       "      <td>I'm a professional OTR truck driver, and I bou...</td>\n",
       "      <td>1</td>\n",
       "    </tr>\n",
       "    <tr>\n",
       "      <td>2</td>\n",
       "      <td>Well, what can I say.  I've had this unit in m...</td>\n",
       "      <td>3</td>\n",
       "    </tr>\n",
       "    <tr>\n",
       "      <td>3</td>\n",
       "      <td>Not going to write a long review, even thought...</td>\n",
       "      <td>2</td>\n",
       "    </tr>\n",
       "    <tr>\n",
       "      <td>4</td>\n",
       "      <td>I've had mine for a year and here's what we go...</td>\n",
       "      <td>1</td>\n",
       "    </tr>\n",
       "  </tbody>\n",
       "</table>\n",
       "</div>"
      ],
      "text/plain": [
       "                                          reviewText  overall\n",
       "0  We got this GPS for my husband who is an (OTR)...        5\n",
       "1  I'm a professional OTR truck driver, and I bou...        1\n",
       "2  Well, what can I say.  I've had this unit in m...        3\n",
       "3  Not going to write a long review, even thought...        2\n",
       "4  I've had mine for a year and here's what we go...        1"
      ]
     },
     "execution_count": 10,
     "metadata": {},
     "output_type": "execute_result"
    }
   ],
   "source": [
    "#Creating dataset\n",
    "reviews = pd.DataFrame()\n",
    "reviews['reviewText'] = amazon_reviews['reviewText']\n",
    "reviews['overall'] = amazon_reviews['overall']\n",
    "reviews.head()"
   ]
  },
  {
   "cell_type": "code",
   "execution_count": 11,
   "metadata": {},
   "outputs": [
    {
     "data": {
      "text/plain": [
       "reviewText    2\n",
       "overall       0\n",
       "dtype: int64"
      ]
     },
     "execution_count": 11,
     "metadata": {},
     "output_type": "execute_result"
    }
   ],
   "source": [
    "#Checking missing values\n",
    "reviews.isnull().sum()"
   ]
  },
  {
   "cell_type": "code",
   "execution_count": 12,
   "metadata": {},
   "outputs": [
    {
     "data": {
      "text/html": [
       "<div>\n",
       "<style scoped>\n",
       "    .dataframe tbody tr th:only-of-type {\n",
       "        vertical-align: middle;\n",
       "    }\n",
       "\n",
       "    .dataframe tbody tr th {\n",
       "        vertical-align: top;\n",
       "    }\n",
       "\n",
       "    .dataframe thead th {\n",
       "        text-align: right;\n",
       "    }\n",
       "</style>\n",
       "<table border=\"1\" class=\"dataframe\">\n",
       "  <thead>\n",
       "    <tr style=\"text-align: right;\">\n",
       "      <th></th>\n",
       "      <th>reviewText</th>\n",
       "      <th>overall</th>\n",
       "    </tr>\n",
       "  </thead>\n",
       "  <tbody>\n",
       "    <tr>\n",
       "      <td>0</td>\n",
       "      <td>We got this GPS for my husband who is an (OTR)...</td>\n",
       "      <td>5</td>\n",
       "    </tr>\n",
       "    <tr>\n",
       "      <td>1</td>\n",
       "      <td>I'm a professional OTR truck driver, and I bou...</td>\n",
       "      <td>1</td>\n",
       "    </tr>\n",
       "    <tr>\n",
       "      <td>2</td>\n",
       "      <td>Well, what can I say.  I've had this unit in m...</td>\n",
       "      <td>3</td>\n",
       "    </tr>\n",
       "    <tr>\n",
       "      <td>3</td>\n",
       "      <td>Not going to write a long review, even thought...</td>\n",
       "      <td>2</td>\n",
       "    </tr>\n",
       "    <tr>\n",
       "      <td>4</td>\n",
       "      <td>I've had mine for a year and here's what we go...</td>\n",
       "      <td>1</td>\n",
       "    </tr>\n",
       "  </tbody>\n",
       "</table>\n",
       "</div>"
      ],
      "text/plain": [
       "                                          reviewText  overall\n",
       "0  We got this GPS for my husband who is an (OTR)...        5\n",
       "1  I'm a professional OTR truck driver, and I bou...        1\n",
       "2  Well, what can I say.  I've had this unit in m...        3\n",
       "3  Not going to write a long review, even thought...        2\n",
       "4  I've had mine for a year and here's what we go...        1"
      ]
     },
     "execution_count": 12,
     "metadata": {},
     "output_type": "execute_result"
    }
   ],
   "source": [
    "# We observe that there are 2 missing values present in our dataset.\n",
    "reviews = reviews[reviews['reviewText'].notnull()]\n",
    "reviews.head()"
   ]
  },
  {
   "cell_type": "code",
   "execution_count": 13,
   "metadata": {},
   "outputs": [
    {
     "data": {
      "text/plain": [
       "(997, 2)"
      ]
     },
     "execution_count": 13,
     "metadata": {},
     "output_type": "execute_result"
    }
   ],
   "source": [
    "reviews.shape"
   ]
  },
  {
   "cell_type": "code",
   "execution_count": 14,
   "metadata": {},
   "outputs": [
    {
     "name": "stdout",
     "output_type": "stream",
     "text": [
      "We got this GPS for my husband who is an (OTR) over the road trucker.  Very Impressed with the shipping time, it arrived a few days earlier than expected...  within a week of use however it started freezing up... could of just been a glitch in that unit.  Worked great when it worked!  Will work great for the normal person as well but does have the \"trucker\" option. (the big truck routes - tells you when a scale is coming up ect...)  Love the bigger screen, the ease of use, the ease of putting ad\n"
     ]
    }
   ],
   "source": [
    "#Combining all the reviews into string so the to perform NLP techniques\n",
    "combined_reviews = \" \".join(reviews['reviewText'])\n",
    "print(combined_reviews[:500])"
   ]
  },
  {
   "cell_type": "code",
   "execution_count": 15,
   "metadata": {},
   "outputs": [
    {
     "data": {
      "image/png": "[encoded data removed]",
      "text/plain": [
       "<Figure size 864x432 with 1 Axes>"
      ]
     },
     "metadata": {
      "needs_background": "light"
     },
     "output_type": "display_data"
    }
   ],
   "source": [
    "# Creating wordcloud\n",
    "from wordcloud import WordCloud\n",
    "word_cloud = WordCloud(width = 800, height = 800, background_color = 'white', max_words = 150).generate(combined_reviews)\n",
    "plt.figure(figsize = (12,6))\n",
    "plt.imshow(word_cloud)\n",
    "plt.axis('off')\n",
    "plt.tight_layout(pad = 0)\n",
    "plt.show()"
   ]
  },
  {
   "cell_type": "code",
   "execution_count": 16,
   "metadata": {},
   "outputs": [
    {
     "data": {
      "text/html": [
       "<div>\n",
       "<style scoped>\n",
       "    .dataframe tbody tr th:only-of-type {\n",
       "        vertical-align: middle;\n",
       "    }\n",
       "\n",
       "    .dataframe tbody tr th {\n",
       "        vertical-align: top;\n",
       "    }\n",
       "\n",
       "    .dataframe thead th {\n",
       "        text-align: right;\n",
       "    }\n",
       "</style>\n",
       "<table border=\"1\" class=\"dataframe\">\n",
       "  <thead>\n",
       "    <tr style=\"text-align: right;\">\n",
       "      <th></th>\n",
       "      <th>Words</th>\n",
       "      <th>Frequency</th>\n",
       "    </tr>\n",
       "  </thead>\n",
       "  <tbody>\n",
       "    <tr>\n",
       "      <td>0</td>\n",
       "      <td>We</td>\n",
       "      <td>51</td>\n",
       "    </tr>\n",
       "    <tr>\n",
       "      <td>1</td>\n",
       "      <td>got</td>\n",
       "      <td>147</td>\n",
       "    </tr>\n",
       "    <tr>\n",
       "      <td>2</td>\n",
       "      <td>this</td>\n",
       "      <td>1168</td>\n",
       "    </tr>\n",
       "    <tr>\n",
       "      <td>3</td>\n",
       "      <td>GPS</td>\n",
       "      <td>14</td>\n",
       "    </tr>\n",
       "    <tr>\n",
       "      <td>4</td>\n",
       "      <td>for</td>\n",
       "      <td>2000</td>\n",
       "    </tr>\n",
       "  </tbody>\n",
       "</table>\n",
       "</div>"
      ],
      "text/plain": [
       "  Words  Frequency\n",
       "0    We         51\n",
       "1   got        147\n",
       "2  this       1168\n",
       "3   GPS         14\n",
       "4   for       2000"
      ]
     },
     "execution_count": 16,
     "metadata": {},
     "output_type": "execute_result"
    }
   ],
   "source": [
    "# Find frequency of each word\n",
    "list1 = []\n",
    "for i in combined_reviews.split():\n",
    "    list1.append(i)\n",
    "dictionary1 = {}\n",
    "for j in list1:\n",
    "    dictionary1[j] = dictionary1.get(j,0)+1\n",
    "series1 = pd.Series(dictionary1)\n",
    "word_freq = pd.DataFrame(series1)\n",
    "word_freq = word_freq.reset_index().rename(columns = {'index':'Words', 0:'Frequency'})\n",
    "word_freq.head()"
   ]
  },
  {
   "cell_type": "code",
   "execution_count": 17,
   "metadata": {},
   "outputs": [
    {
     "data": {
      "text/html": [
       "<div>\n",
       "<style scoped>\n",
       "    .dataframe tbody tr th:only-of-type {\n",
       "        vertical-align: middle;\n",
       "    }\n",
       "\n",
       "    .dataframe tbody tr th {\n",
       "        vertical-align: top;\n",
       "    }\n",
       "\n",
       "    .dataframe thead th {\n",
       "        text-align: right;\n",
       "    }\n",
       "</style>\n",
       "<table border=\"1\" class=\"dataframe\">\n",
       "  <thead>\n",
       "    <tr style=\"text-align: right;\">\n",
       "      <th></th>\n",
       "      <th>Words</th>\n",
       "      <th>Frequency</th>\n",
       "    </tr>\n",
       "  </thead>\n",
       "  <tbody>\n",
       "    <tr>\n",
       "      <td>12</td>\n",
       "      <td>the</td>\n",
       "      <td>7016</td>\n",
       "    </tr>\n",
       "    <tr>\n",
       "      <td>81</td>\n",
       "      <td>to</td>\n",
       "      <td>4356</td>\n",
       "    </tr>\n",
       "    <tr>\n",
       "      <td>90</td>\n",
       "      <td>and</td>\n",
       "      <td>4066</td>\n",
       "    </tr>\n",
       "    <tr>\n",
       "      <td>22</td>\n",
       "      <td>a</td>\n",
       "      <td>3819</td>\n",
       "    </tr>\n",
       "    <tr>\n",
       "      <td>93</td>\n",
       "      <td>I</td>\n",
       "      <td>3782</td>\n",
       "    </tr>\n",
       "    <tr>\n",
       "      <td>8</td>\n",
       "      <td>is</td>\n",
       "      <td>2403</td>\n",
       "    </tr>\n",
       "    <tr>\n",
       "      <td>20</td>\n",
       "      <td>it</td>\n",
       "      <td>2341</td>\n",
       "    </tr>\n",
       "    <tr>\n",
       "      <td>4</td>\n",
       "      <td>for</td>\n",
       "      <td>2000</td>\n",
       "    </tr>\n",
       "    <tr>\n",
       "      <td>30</td>\n",
       "      <td>of</td>\n",
       "      <td>1945</td>\n",
       "    </tr>\n",
       "    <tr>\n",
       "      <td>41</td>\n",
       "      <td>that</td>\n",
       "      <td>1444</td>\n",
       "    </tr>\n",
       "    <tr>\n",
       "      <td>5</td>\n",
       "      <td>my</td>\n",
       "      <td>1432</td>\n",
       "    </tr>\n",
       "    <tr>\n",
       "      <td>17</td>\n",
       "      <td>with</td>\n",
       "      <td>1401</td>\n",
       "    </tr>\n",
       "    <tr>\n",
       "      <td>147</td>\n",
       "      <td>on</td>\n",
       "      <td>1374</td>\n",
       "    </tr>\n",
       "    <tr>\n",
       "      <td>64</td>\n",
       "      <td>you</td>\n",
       "      <td>1352</td>\n",
       "    </tr>\n",
       "    <tr>\n",
       "      <td>40</td>\n",
       "      <td>in</td>\n",
       "      <td>1288</td>\n",
       "    </tr>\n",
       "    <tr>\n",
       "      <td>2</td>\n",
       "      <td>this</td>\n",
       "      <td>1168</td>\n",
       "    </tr>\n",
       "    <tr>\n",
       "      <td>55</td>\n",
       "      <td>have</td>\n",
       "      <td>1108</td>\n",
       "    </tr>\n",
       "    <tr>\n",
       "      <td>53</td>\n",
       "      <td>but</td>\n",
       "      <td>921</td>\n",
       "    </tr>\n",
       "    <tr>\n",
       "      <td>795</td>\n",
       "      <td>Nook</td>\n",
       "      <td>879</td>\n",
       "    </tr>\n",
       "    <tr>\n",
       "      <td>360</td>\n",
       "      <td>not</td>\n",
       "      <td>866</td>\n",
       "    </tr>\n",
       "    <tr>\n",
       "      <td>128</td>\n",
       "      <td>was</td>\n",
       "      <td>853</td>\n",
       "    </tr>\n",
       "    <tr>\n",
       "      <td>51</td>\n",
       "      <td>as</td>\n",
       "      <td>777</td>\n",
       "    </tr>\n",
       "    <tr>\n",
       "      <td>137</td>\n",
       "      <td>The</td>\n",
       "      <td>744</td>\n",
       "    </tr>\n",
       "    <tr>\n",
       "      <td>304</td>\n",
       "      <td>can</td>\n",
       "      <td>727</td>\n",
       "    </tr>\n",
       "    <tr>\n",
       "      <td>144</td>\n",
       "      <td>be</td>\n",
       "      <td>681</td>\n",
       "    </tr>\n",
       "  </tbody>\n",
       "</table>\n",
       "</div>"
      ],
      "text/plain": [
       "    Words  Frequency\n",
       "12    the       7016\n",
       "81     to       4356\n",
       "90    and       4066\n",
       "22      a       3819\n",
       "93      I       3782\n",
       "8      is       2403\n",
       "20     it       2341\n",
       "4     for       2000\n",
       "30     of       1945\n",
       "41   that       1444\n",
       "5      my       1432\n",
       "17   with       1401\n",
       "147    on       1374\n",
       "64    you       1352\n",
       "40     in       1288\n",
       "2    this       1168\n",
       "55   have       1108\n",
       "53    but        921\n",
       "795  Nook        879\n",
       "360   not        866\n",
       "128   was        853\n",
       "51     as        777\n",
       "137   The        744\n",
       "304   can        727\n",
       "144    be        681"
      ]
     },
     "execution_count": 17,
     "metadata": {},
     "output_type": "execute_result"
    }
   ],
   "source": [
    "#Checking top 25 maximum frequency words\n",
    "top_25_words = word_freq.sort_values(ascending = False, by = 'Frequency')\n",
    "top_25_words.head(25)"
   ]
  },
  {
   "cell_type": "code",
   "execution_count": 18,
   "metadata": {},
   "outputs": [
    {
     "name": "stdout",
     "output_type": "stream",
     "text": [
      "['we', 'got', 'this', 'gps', 'for', 'my', 'husband', 'who', 'is', 'an', '(', 'otr', ')', 'over', 'the', 'road', 'trucker', '.', 'very', 'impressed', 'with', 'the', 'shipping', 'time', ',', 'it', 'arrived', 'a', 'few', 'days', 'earlier', 'than', 'expected', '...', 'within', 'a', 'week', 'of', 'use', 'however', 'it', 'started', 'freezing', 'up', '...', 'could', 'of', 'just', 'been', 'a', 'glitch', 'in', 'that', 'unit', '.', 'worked', 'great', 'when', 'it', 'worked', '!', 'will', 'work', 'great', 'for', 'the', 'normal', 'person', 'as', 'well', 'but', 'does', 'have', 'the', '``', 'trucker', \"''\", 'option', '.', '(', 'the', 'big', 'truck', 'routes', '-', 'tells', 'you', 'when', 'a', 'scale', 'is', 'coming', 'up', 'ect', '...', ')', 'love', 'the', 'bigger', 'screen', ',', 'the', 'ease', 'of', 'use', ',', 'the', 'ease', 'of', 'putting', 'addresses', 'into', 'memory', '.', 'nothing', 'really', 'bad', 'to', 'say', 'about', 'the', 'unit', 'with', 'the', 'exception', 'of', 'it', 'freezing', 'which', 'is', 'probably', 'one', 'in', 'a', 'million', 'and', 'that', \"'s\", 'just', 'my', 'luck', '.', 'i', 'contacted', 'the', 'seller', 'and', 'within', 'minutes', 'of', 'my', 'email', 'i', 'received', 'a', 'email', 'back', 'with', 'instructions', 'for', 'an', 'exchange', '!', 'very', 'impressed', 'all', 'the', 'way', 'around', '!', 'i', \"'m\", 'a', 'professional', 'otr', 'truck', 'driver', ',', 'and', 'i', 'bought', 'a', 'tnd', '700', 'at', 'a', 'truck', 'stop', 'hoping', 'to', 'make', 'my', 'life', 'easier', '.', 'rand', 'mcnally', ',', 'are', 'you', 'listening', '?', 'first', 'thing', 'i', 'did', 'after', 'charging', 'it', 'was', 'connect', 'it', 'to', 'my', 'laptop', 'and', 'install', 'the', 'software', 'and', 'then', 'attempt', 'to', 'update', 'it', '.', 'the', 'software', 'detected', 'a', 'problem', 'with', 'my', 'update', 'and', 'wanted', 'my', 'home', 'address', 'so', 'i', 'could', 'be', 'sent', 'a', 'patch', 'on', 'an', 'sd', 'card', '.', 'hello', '?', 'i', 'do', \"n't\", 'think', 'i', \"'m\", 'all', 'that', 'unusual', ';', 'my', 'home', 'address', 'is', 'a', 'po', 'box', 'that', 'a', 'friend', 'checks', 'weekly', 'and', 'that', 'i', 'might', 'get', 'to', 'check', 'every', 'six', 'months', 'or', 'so', '.', 'i', 'live', 'in', 'my', 'truck', 'and', 'at', 'truck', 'stops', '.', 'if', 'you', 'need', 'to', 'make', 'a', 'patch', 'available', 'on', 'an', 'sd', 'card', 'then', 'you', 'should', 'send', 'the', 'sd', 'cards', 'to', 'the', 'truck', 'stops', 'where', 'the', 'devices', 'are', 'sold', '.', 'i', 'ran', 'the', 'update', 'program', 'multiple', 'times', 'until', 'the', 'program', 'said', 'that', 'the', 'tnd', '700', 'was', 'completely', 'updated.i', 'programmed', 'in', 'the', 'height', '(', '13', \"'\", '6', \"''\", ')', ',', 'the', 'length', '(', '53', \"'\", ')', 'and', 'the', 'weight', '(', '80,000', '#', ')', 'of', 'my', 'rig', 'and', 'told', 'it', 'that', 'i', 'preferred', 'highways', '.', 'i', 'was', 'parked', 'at', 'a', 'truck', 'stop', 'in', 'the', 'cincinnati', 'oh', 'area', '.', 'my', 'next', 'pickup', 'was', 'about', '15', 'miles', 'down', 'the', 'same', 'freeway', 'but', 'on', 'the', 'other', 'side', 'of', 'it', 'a', 'couple', 'of', 'blocks', '.', 'my', 'cell', 'phone', 'gps', '(', 'sprint', ')', 'said', 'to', 'get', 'on', 'the', 'freeway', 'to', 'get', 'to', 'my', 'pickup', '.', 'the', 'tnd', '700', 'routed', 'me', 'thru', '23', 'miles', 'of', 'residential', 'streets', 'before', 'finally', 'getting', 'me', 'to', 'my', 'pickup', '.', 'very', 'exciting', ',', 'especially', 'since', 'every', 'time', 'i', 'refused', 'to', 'turn', 'down', 'a', 'street', 'posted', '``', 'no', 'trucks', \"''\", 'the', 'tnd', '700', 'took', 'almost', '5', 'minutes', 'to', 'figure', 'a', 're-route', ',', 'and', 'it', 'happened', 'multiple', 'times', 'on', 'that', 'short', 'trip.i', 'decided', 'to', 'give', 'it', 'another', 'chance']\n"
     ]
    }
   ],
   "source": [
    "#Applying Tokenization\n",
    "from nltk.tokenize import word_tokenize\n",
    "all_words = word_tokenize(combined_reviews.lower())\n",
    "print(all_words[:500])"
   ]
  },
  {
   "cell_type": "code",
   "execution_count": 19,
   "metadata": {},
   "outputs": [
    {
     "name": "stderr",
     "output_type": "stream",
     "text": [
      "[nltk_data] Downloading package punkt to /Users/ashish/nltk_data...\n",
      "[nltk_data]   Package punkt is already up-to-date!\n"
     ]
    },
    {
     "data": {
      "text/plain": [
       "True"
      ]
     },
     "execution_count": 19,
     "metadata": {},
     "output_type": "execute_result"
    }
   ],
   "source": [
    "nltk.download('punkt')"
   ]
  },
  {
   "cell_type": "code",
   "execution_count": 20,
   "metadata": {},
   "outputs": [],
   "source": [
    "import nltk"
   ]
  },
  {
   "cell_type": "code",
   "execution_count": 21,
   "metadata": {},
   "outputs": [
    {
     "data": {
      "text/plain": [
       "FreqDist({'the': 7859, '.': 6669, ',': 5824, 'i': 4499, 'to': 4419, 'and': 4213, 'a': 3902, 'it': 3657, 'is': 2498, 'for': 2098, ...})"
      ]
     },
     "execution_count": 21,
     "metadata": {},
     "output_type": "execute_result"
    }
   ],
   "source": [
    "from nltk.probability import FreqDist\n",
    "fdist = FreqDist(all_words)\n",
    "fdist"
   ]
  },
  {
   "cell_type": "code",
   "execution_count": 22,
   "metadata": {},
   "outputs": [
    {
     "data": {
      "image/png": "[encoded data removed]",
      "text/plain": [
       "<Figure size 720x432 with 1 Axes>"
      ]
     },
     "metadata": {
      "needs_background": "light"
     },
     "output_type": "display_data"
    }
   ],
   "source": [
    "# Ploting frequency distribution\n",
    "plt.figure(figsize = (10,6))\n",
    "fdist.plot(25, cumulative = False)\n",
    "plt.show()"
   ]
  },
  {
   "cell_type": "code",
   "execution_count": 23,
   "metadata": {},
   "outputs": [
    {
     "name": "stdout",
     "output_type": "stream",
     "text": [
      "['i', 'me', 'my', 'myself', 'we', 'our', 'ours', 'ourselves', 'you', \"you're\", \"you've\", \"you'll\", \"you'd\", 'your', 'yours', 'yourself', 'yourselves', 'he', 'him', 'his', 'himself', 'she', \"she's\", 'her', 'hers', 'herself', 'it', \"it's\", 'its', 'itself', 'they', 'them', 'their', 'theirs', 'themselves', 'what', 'which', 'who', 'whom', 'this', 'that', \"that'll\", 'these', 'those', 'am', 'is', 'are', 'was', 'were', 'be', 'been', 'being', 'have', 'has', 'had', 'having', 'do', 'does', 'did', 'doing', 'a', 'an', 'the', 'and', 'but', 'if', 'or', 'because', 'as', 'until', 'while', 'of', 'at', 'by', 'for', 'with', 'about', 'against', 'between', 'into', 'through', 'during', 'before', 'after', 'above', 'below', 'to', 'from', 'up', 'down', 'in', 'out', 'on', 'off', 'over', 'under', 'again', 'further', 'then', 'once', 'here', 'there', 'when', 'where', 'why', 'how', 'all', 'any', 'both', 'each', 'few', 'more', 'most', 'other', 'some', 'such', 'no', 'nor', 'not', 'only', 'own', 'same', 'so', 'than', 'too', 'very', 's', 't', 'can', 'will', 'just', 'don', \"don't\", 'should', \"should've\", 'now', 'd', 'll', 'm', 'o', 're', 've', 'y', 'ain', 'aren', \"aren't\", 'couldn', \"couldn't\", 'didn', \"didn't\", 'doesn', \"doesn't\", 'hadn', \"hadn't\", 'hasn', \"hasn't\", 'haven', \"haven't\", 'isn', \"isn't\", 'ma', 'mightn', \"mightn't\", 'mustn', \"mustn't\", 'needn', \"needn't\", 'shan', \"shan't\", 'shouldn', \"shouldn't\", 'wasn', \"wasn't\", 'weren', \"weren't\", 'won', \"won't\", 'wouldn', \"wouldn't\"]\n",
      "['!', '\"', '#', '$', '%', '&', \"'\", '(', ')', '*', '+', ',', '-', '.', '/', ':', ';', '<', '=', '>', '?', '@', '[', '\\\\', ']', '^', '_', '`', '{', '|', '}', '~']\n"
     ]
    }
   ],
   "source": [
    "# Checking stopwords and punctuations\n",
    "from nltk.corpus import stopwords\n",
    "from string import punctuation\n",
    "stop_words = stopwords.words('english')\n",
    "print(stop_words)\n",
    "print(list(punctuation))"
   ]
  },
  {
   "cell_type": "code",
   "execution_count": 24,
   "metadata": {},
   "outputs": [
    {
     "name": "stdout",
     "output_type": "stream",
     "text": [
      "['i', 'me', 'my', 'myself', 'we', 'our', 'ours', 'ourselves', 'you', \"you're\", \"you've\", \"you'll\", \"you'd\", 'your', 'yours', 'yourself', 'yourselves', 'he', 'him', 'his', 'himself', 'she', \"she's\", 'her', 'hers', 'herself', 'it', \"it's\", 'its', 'itself', 'they', 'them', 'their', 'theirs', 'themselves', 'what', 'which', 'who', 'whom', 'this', 'that', \"that'll\", 'these', 'those', 'am', 'is', 'are', 'was', 'were', 'be', 'been', 'being', 'have', 'has', 'had', 'having', 'do', 'does', 'did', 'doing', 'a', 'an', 'the', 'and', 'but', 'if', 'or', 'because', 'as', 'until', 'while', 'of', 'at', 'by', 'for', 'with', 'about', 'against', 'between', 'into', 'through', 'during', 'before', 'after', 'above', 'below', 'to', 'from', 'up', 'down', 'in', 'out', 'on', 'off', 'over', 'under', 'again', 'further', 'then', 'once', 'here', 'there', 'when', 'where', 'why', 'how', 'all', 'any', 'both', 'each', 'few', 'more', 'most', 'other', 'some', 'such', 'no', 'nor', 'not', 'only', 'own', 'same', 'so', 'than', 'too', 'very', 's', 't', 'can', 'will', 'just', 'don', \"don't\", 'should', \"should've\", 'now', 'd', 'll', 'm', 'o', 're', 've', 'y', 'ain', 'aren', \"aren't\", 'couldn', \"couldn't\", 'didn', \"didn't\", 'doesn', \"doesn't\", 'hadn', \"hadn't\", 'hasn', \"hasn't\", 'haven', \"haven't\", 'isn', \"isn't\", 'ma', 'mightn', \"mightn't\", 'mustn', \"mustn't\", 'needn', \"needn't\", 'shan', \"shan't\", 'shouldn', \"shouldn't\", 'wasn', \"wasn't\", 'weren', \"weren't\", 'won', \"won't\", 'wouldn', \"wouldn't\", '..', '...', 'will', 'would', 'can', 'could', \"n't\"]\n"
     ]
    }
   ],
   "source": [
    "stop_words_updated = stop_words + ['..', '...', 'will', 'would', 'can', 'could', \"n't\"]\n",
    "print(stop_words_updated)"
   ]
  },
  {
   "cell_type": "code",
   "execution_count": 25,
   "metadata": {},
   "outputs": [
    {
     "name": "stdout",
     "output_type": "stream",
     "text": [
      "['got', 'gps', 'husband', 'otr', 'road', 'trucker', 'impressed', 'shipping', 'time', 'arrived', 'days', 'earlier', 'expected', 'within', 'week', 'use', 'however', 'started', 'freezing', 'glitch', 'unit', 'worked', 'great', 'worked', 'work', 'great', 'normal', 'person', 'well', 'trucker', 'option', 'big', 'truck', 'routes', 'tells', 'scale', 'coming', 'ect', 'love', 'bigger', 'screen', 'ease', 'use', 'ease', 'putting', 'addresses', 'memory', 'nothing', 'really', 'bad', 'say', 'unit', 'exception', 'freezing', 'probably', 'one', 'million', 'luck', 'contacted', 'seller', 'within', 'minutes', 'email', 'received', 'email', 'back', 'instructions', 'exchange', 'impressed', 'way', 'around', 'professional', 'otr', 'truck', 'driver', 'bought', 'tnd', '700', 'truck', 'stop', 'hoping', 'make', 'life', 'easier', 'rand', 'mcnally', 'listening', 'first', 'thing', 'charging', 'connect', 'laptop', 'install', 'software', 'attempt', 'update', 'software', 'detected', 'problem', 'update', 'wanted', 'home', 'address', 'sent', 'patch', 'card', 'hello', 'think', 'unusual', 'home', 'address', 'box', 'friend', 'checks', 'weekly', 'might', 'get', 'check', 'every', 'six', 'months', 'live', 'truck', 'truck', 'stops', 'need', 'make', 'patch', 'available', 'card', 'send', 'cards', 'truck', 'stops', 'devices', 'sold', 'ran', 'update', 'program', 'multiple', 'times', 'program', 'said', 'tnd', '700', 'completely', 'updated.i', 'programmed', 'height', 'length', 'weight', '80,000', 'rig', 'told', 'preferred', 'highways', 'parked', 'truck', 'stop', 'cincinnati', 'area', 'next', 'pickup', 'miles', 'freeway', 'side', 'couple', 'blocks', 'cell', 'phone', 'gps', 'sprint', 'said', 'get', 'freeway', 'get', 'pickup', 'tnd', '700', 'routed', 'thru', 'miles', 'residential', 'streets', 'finally', 'getting', 'pickup', 'exciting', 'especially', 'since', 'every', 'time', 'refused', 'turn', 'street', 'posted', 'trucks', 'tnd', '700', 'took']\n"
     ]
    }
   ],
   "source": [
    "# Removing stopwords and punctuations\n",
    "all_words_updated = [word for word in all_words if word not in stop_words_updated\\\n",
    "                  and word not in list(punctuation) and len(word) > 2]\n",
    "print(all_words_updated[:200])"
   ]
  },
  {
   "cell_type": "code",
   "execution_count": 26,
   "metadata": {},
   "outputs": [
    {
     "name": "stdout",
     "output_type": "stream",
     "text": [
      "8971\n"
     ]
    }
   ],
   "source": [
    "# Applying lemmatization\n",
    "from nltk.stem import WordNetLemmatizer\n",
    "lemma = WordNetLemmatizer()\n",
    "lemma_words = [lemma.lemmatize(i) for i in all_words_updated]\n",
    "print(len(set(lemma_words)))"
   ]
  },
  {
   "cell_type": "code",
   "execution_count": 27,
   "metadata": {},
   "outputs": [
    {
     "name": "stderr",
     "output_type": "stream",
     "text": [
      "[nltk_data] Downloading package wordnet to /Users/ashish/nltk_data...\n",
      "[nltk_data]   Package wordnet is already up-to-date!\n"
     ]
    },
    {
     "data": {
      "text/plain": [
       "True"
      ]
     },
     "execution_count": 27,
     "metadata": {},
     "output_type": "execute_result"
    }
   ],
   "source": [
    "nltk.download('wordnet')"
   ]
  },
  {
   "cell_type": "code",
   "execution_count": 28,
   "metadata": {},
   "outputs": [
    {
     "data": {
      "text/html": [
       "<div>\n",
       "<style scoped>\n",
       "    .dataframe tbody tr th:only-of-type {\n",
       "        vertical-align: middle;\n",
       "    }\n",
       "\n",
       "    .dataframe tbody tr th {\n",
       "        vertical-align: top;\n",
       "    }\n",
       "\n",
       "    .dataframe thead th {\n",
       "        text-align: right;\n",
       "    }\n",
       "</style>\n",
       "<table border=\"1\" class=\"dataframe\">\n",
       "  <thead>\n",
       "    <tr style=\"text-align: right;\">\n",
       "      <th></th>\n",
       "      <th>reviewText</th>\n",
       "      <th>overall</th>\n",
       "      <th>clean_reviewText</th>\n",
       "    </tr>\n",
       "  </thead>\n",
       "  <tbody>\n",
       "    <tr>\n",
       "      <td>0</td>\n",
       "      <td>We got this GPS for my husband who is an (OTR)...</td>\n",
       "      <td>5</td>\n",
       "      <td>got gps husband otr road trucker impressed shi...</td>\n",
       "    </tr>\n",
       "    <tr>\n",
       "      <td>1</td>\n",
       "      <td>I'm a professional OTR truck driver, and I bou...</td>\n",
       "      <td>1</td>\n",
       "      <td>professional otr truck driver bought tnd 700 t...</td>\n",
       "    </tr>\n",
       "    <tr>\n",
       "      <td>2</td>\n",
       "      <td>Well, what can I say.  I've had this unit in m...</td>\n",
       "      <td>3</td>\n",
       "      <td>well say 've unit truck four day prior garmin ...</td>\n",
       "    </tr>\n",
       "    <tr>\n",
       "      <td>3</td>\n",
       "      <td>Not going to write a long review, even thought...</td>\n",
       "      <td>2</td>\n",
       "      <td>going write long review even thought unit dese...</td>\n",
       "    </tr>\n",
       "    <tr>\n",
       "      <td>4</td>\n",
       "      <td>I've had mine for a year and here's what we go...</td>\n",
       "      <td>1</td>\n",
       "      <td>'ve mine year got try route non truck route te...</td>\n",
       "    </tr>\n",
       "  </tbody>\n",
       "</table>\n",
       "</div>"
      ],
      "text/plain": [
       "                                          reviewText  overall  \\\n",
       "0  We got this GPS for my husband who is an (OTR)...        5   \n",
       "1  I'm a professional OTR truck driver, and I bou...        1   \n",
       "2  Well, what can I say.  I've had this unit in m...        3   \n",
       "3  Not going to write a long review, even thought...        2   \n",
       "4  I've had mine for a year and here's what we go...        1   \n",
       "\n",
       "                                    clean_reviewText  \n",
       "0  got gps husband otr road trucker impressed shi...  \n",
       "1  professional otr truck driver bought tnd 700 t...  \n",
       "2  well say 've unit truck four day prior garmin ...  \n",
       "3  going write long review even thought unit dese...  \n",
       "4  've mine year got try route non truck route te...  "
      ]
     },
     "execution_count": 28,
     "metadata": {},
     "output_type": "execute_result"
    }
   ],
   "source": [
    "# Create new dataframe after Text Cleaning\n",
    "def clean_text(text):\n",
    "    token = word_tokenize(text.lower())\n",
    "    lemm = [lemma.lemmatize(i) for i in token if i not in stop_words_updated\\\n",
    "           and i not in list(punctuation) and len(i) > 2]\n",
    "    sentence = ' '.join(lemm)\n",
    "    return sentence\n",
    "\n",
    "reviews['clean_reviewText'] = reviews['reviewText'].apply(clean_text)\n",
    "reviews.head()"
   ]
  },
  {
   "cell_type": "code",
   "execution_count": null,
   "metadata": {},
   "outputs": [],
   "source": [
    "#Plot a bigram bar graph on the top words 25 words"
   ]
  },
  {
   "cell_type": "code",
   "execution_count": 29,
   "metadata": {},
   "outputs": [
    {
     "name": "stdout",
     "output_type": "stream",
     "text": [
      "['00 100', '00 300', '00 believe', '00 best', '00 came', '00 dollar', '00 free', '00 great', '00 hit', '00 hold', '00 idea', '00 ipad', '00 like', '00 one', '00 opinion', '00 pleased', '00 price', '00 product', '00 shipped', '00 tablet', '00 thing', '00 title', '00 unless', '00 worth', '000 000', '000 android', '000 apps', '000 book', '000 free', '000 picture', '000 recipe', '000 repeated', '000 rig', '000 title', '000 yes', '01 31', '02 08', '02 wish', '04 14', '08 2010', '09i wanted', '0v 900mah', '0v battery', '10 12', '10 14', '10 15', '10 2013', '10 2014', '10 android', '10 big', '10 built', '10 hour', '10 offering', '10 pdf', '10 second', '10 software', '10 touch', '10 update', '10 using', '100 00', '100 1usgets', '100 250', '100 250v', '100 32gb', '100 battery', '100 book', '100 buck', '100 capable', '100 category', '100 charge', '100 come', '100 dollar', '100 external', '100 full', '100 glad', '100 kindle', '100 luxeon', '100 memory', '100 overall', '100 page', '100 percent', '100 possibly', '100 re', '100 regular', '100 reliable', '100 replacement', '100 simply', '100 spilled', '100 tablet', '100 thorough', '100 time', '100 vesa', '100 wall', '1000 apps', '1000 cycle', '1000 fps', '1000 page', '1000 this', '100mm mount', '100x100 mount', '100x100 vesa', '1024 600', '1024x600 dpi', '1024x768 resolution', '1080 display', '1080 monitor', '1080 tablet', '1080i plus', '1080p 1920', '1080p 60hz', '1080p canon', '1080p capable', '1080p definitely', '1080p get', '1080p image', '1080p immediately', '1080p movie', '1080p open', '1080p plasma', '1080p resolution', '1080p this', '1080p video', '10feet gold', '10foot cable', '10ft cable', '10ft long', '11 11', '11 14', '11 148', '11 15', '11 17', '11 2010', '11 45pm', '11 even', '11 nook', '110 120', '110 moment', '110 outlet', '110v 250v', '114 free', '115k happier', '119 fantastic', '11b hotspot', '11caved purchased', '11g wep', '11returned nook', '11went return', '12 14', '12 2010', '12 2011', '12 21', '12 bothered', '12 lb', '120 144', '120 one', '120 outlet', '120 wall', '1200 800', '1200 shown', '120gig recording', '123 button', '123 work', '1280 high', '1280x800 galaxy', '1280x800 look', '129 greenback', '12mm long', '12there thing', '12v car', '13 finally', '13 put', '13 reader', '130 like', '1300 mhz', '139 version', '139 wifi', '13mm attachment', '14 00', '14 09i', '14 2011', '14 2013', '14 50', '14 99', '14 day', '14 hour', '144 stuff', '1440p qnix', '1440x900 screen', '148 apps', '149 99', '149 hand', '149 reasonable', '149 wifist', '149 wow', '14gb collection', '14th lot', '15 13', '15 degree', '15 lb', '150 180']\n"
     ]
    }
   ],
   "source": [
    "# Plot a bigram bar graph on top 25 words\n",
    "from sklearn.feature_extraction.text import CountVectorizer\n",
    "count_vect = CountVectorizer(ngram_range = (2,2))\n",
    "bigrams = count_vect.fit_transform(reviews['clean_reviewText'])\n",
    "print(count_vect.get_feature_names()[:200])"
   ]
  },
  {
   "cell_type": "code",
   "execution_count": 30,
   "metadata": {},
   "outputs": [
    {
     "data": {
      "text/html": [
       "<div>\n",
       "<style scoped>\n",
       "    .dataframe tbody tr th:only-of-type {\n",
       "        vertical-align: middle;\n",
       "    }\n",
       "\n",
       "    .dataframe tbody tr th {\n",
       "        vertical-align: top;\n",
       "    }\n",
       "\n",
       "    .dataframe thead th {\n",
       "        text-align: right;\n",
       "    }\n",
       "</style>\n",
       "<table border=\"1\" class=\"dataframe\">\n",
       "  <thead>\n",
       "    <tr style=\"text-align: right;\">\n",
       "      <th></th>\n",
       "      <th>00 100</th>\n",
       "      <th>00 300</th>\n",
       "      <th>00 believe</th>\n",
       "      <th>00 best</th>\n",
       "      <th>00 came</th>\n",
       "      <th>00 dollar</th>\n",
       "      <th>00 free</th>\n",
       "      <th>00 great</th>\n",
       "      <th>00 hit</th>\n",
       "      <th>00 hold</th>\n",
       "      <th>...</th>\n",
       "      <th>zoom touch</th>\n",
       "      <th>zoom type</th>\n",
       "      <th>zoom update</th>\n",
       "      <th>zoom use</th>\n",
       "      <th>zooming awkward</th>\n",
       "      <th>zooming feature</th>\n",
       "      <th>zooming scrolling</th>\n",
       "      <th>zs15 photo</th>\n",
       "      <th>zune place</th>\n",
       "      <th>zune ve</th>\n",
       "    </tr>\n",
       "  </thead>\n",
       "  <tbody>\n",
       "    <tr>\n",
       "      <td>0</td>\n",
       "      <td>0</td>\n",
       "      <td>0</td>\n",
       "      <td>0</td>\n",
       "      <td>0</td>\n",
       "      <td>0</td>\n",
       "      <td>0</td>\n",
       "      <td>0</td>\n",
       "      <td>0</td>\n",
       "      <td>0</td>\n",
       "      <td>0</td>\n",
       "      <td>...</td>\n",
       "      <td>0</td>\n",
       "      <td>0</td>\n",
       "      <td>0</td>\n",
       "      <td>0</td>\n",
       "      <td>0</td>\n",
       "      <td>0</td>\n",
       "      <td>0</td>\n",
       "      <td>0</td>\n",
       "      <td>0</td>\n",
       "      <td>0</td>\n",
       "    </tr>\n",
       "    <tr>\n",
       "      <td>1</td>\n",
       "      <td>0</td>\n",
       "      <td>0</td>\n",
       "      <td>0</td>\n",
       "      <td>0</td>\n",
       "      <td>0</td>\n",
       "      <td>0</td>\n",
       "      <td>0</td>\n",
       "      <td>0</td>\n",
       "      <td>0</td>\n",
       "      <td>0</td>\n",
       "      <td>...</td>\n",
       "      <td>0</td>\n",
       "      <td>0</td>\n",
       "      <td>0</td>\n",
       "      <td>0</td>\n",
       "      <td>0</td>\n",
       "      <td>0</td>\n",
       "      <td>0</td>\n",
       "      <td>0</td>\n",
       "      <td>0</td>\n",
       "      <td>0</td>\n",
       "    </tr>\n",
       "    <tr>\n",
       "      <td>2</td>\n",
       "      <td>0</td>\n",
       "      <td>0</td>\n",
       "      <td>0</td>\n",
       "      <td>0</td>\n",
       "      <td>0</td>\n",
       "      <td>0</td>\n",
       "      <td>0</td>\n",
       "      <td>0</td>\n",
       "      <td>0</td>\n",
       "      <td>0</td>\n",
       "      <td>...</td>\n",
       "      <td>0</td>\n",
       "      <td>0</td>\n",
       "      <td>0</td>\n",
       "      <td>0</td>\n",
       "      <td>0</td>\n",
       "      <td>0</td>\n",
       "      <td>0</td>\n",
       "      <td>0</td>\n",
       "      <td>0</td>\n",
       "      <td>0</td>\n",
       "    </tr>\n",
       "    <tr>\n",
       "      <td>3</td>\n",
       "      <td>0</td>\n",
       "      <td>0</td>\n",
       "      <td>0</td>\n",
       "      <td>0</td>\n",
       "      <td>0</td>\n",
       "      <td>0</td>\n",
       "      <td>0</td>\n",
       "      <td>0</td>\n",
       "      <td>0</td>\n",
       "      <td>0</td>\n",
       "      <td>...</td>\n",
       "      <td>0</td>\n",
       "      <td>0</td>\n",
       "      <td>0</td>\n",
       "      <td>0</td>\n",
       "      <td>0</td>\n",
       "      <td>0</td>\n",
       "      <td>0</td>\n",
       "      <td>0</td>\n",
       "      <td>0</td>\n",
       "      <td>0</td>\n",
       "    </tr>\n",
       "    <tr>\n",
       "      <td>4</td>\n",
       "      <td>0</td>\n",
       "      <td>0</td>\n",
       "      <td>0</td>\n",
       "      <td>0</td>\n",
       "      <td>0</td>\n",
       "      <td>0</td>\n",
       "      <td>0</td>\n",
       "      <td>0</td>\n",
       "      <td>0</td>\n",
       "      <td>0</td>\n",
       "      <td>...</td>\n",
       "      <td>0</td>\n",
       "      <td>0</td>\n",
       "      <td>0</td>\n",
       "      <td>0</td>\n",
       "      <td>0</td>\n",
       "      <td>0</td>\n",
       "      <td>0</td>\n",
       "      <td>0</td>\n",
       "      <td>0</td>\n",
       "      <td>0</td>\n",
       "    </tr>\n",
       "  </tbody>\n",
       "</table>\n",
       "<p>5 rows × 55072 columns</p>\n",
       "</div>"
      ],
      "text/plain": [
       "   00 100  00 300  00 believe  00 best  00 came  00 dollar  00 free  00 great  \\\n",
       "0       0       0           0        0        0          0        0         0   \n",
       "1       0       0           0        0        0          0        0         0   \n",
       "2       0       0           0        0        0          0        0         0   \n",
       "3       0       0           0        0        0          0        0         0   \n",
       "4       0       0           0        0        0          0        0         0   \n",
       "\n",
       "   00 hit  00 hold  ...  zoom touch  zoom type  zoom update  zoom use  \\\n",
       "0       0        0  ...           0          0            0         0   \n",
       "1       0        0  ...           0          0            0         0   \n",
       "2       0        0  ...           0          0            0         0   \n",
       "3       0        0  ...           0          0            0         0   \n",
       "4       0        0  ...           0          0            0         0   \n",
       "\n",
       "   zooming awkward  zooming feature  zooming scrolling  zs15 photo  \\\n",
       "0                0                0                  0           0   \n",
       "1                0                0                  0           0   \n",
       "2                0                0                  0           0   \n",
       "3                0                0                  0           0   \n",
       "4                0                0                  0           0   \n",
       "\n",
       "   zune place  zune ve  \n",
       "0           0        0  \n",
       "1           0        0  \n",
       "2           0        0  \n",
       "3           0        0  \n",
       "4           0        0  \n",
       "\n",
       "[5 rows x 55072 columns]"
      ]
     },
     "execution_count": 30,
     "metadata": {},
     "output_type": "execute_result"
    }
   ],
   "source": [
    "# Converting to Document term matrix\n",
    "DTM = pd.DataFrame(bigrams.toarray(), columns = count_vect.get_feature_names())\n",
    "DTM.head()"
   ]
  },
  {
   "cell_type": "code",
   "execution_count": 31,
   "metadata": {},
   "outputs": [
    {
     "data": {
      "text/plain": [
       "barnes noble        166\n",
       "nook color          135\n",
       "battery life         98\n",
       "touch screen         96\n",
       "nook tablet          66\n",
       "work great           65\n",
       "kindle fire          61\n",
       "work well            59\n",
       "read book            56\n",
       "wall mount           53\n",
       "wi fi                47\n",
       "simple touch         45\n",
       "android tablet       41\n",
       "customer service     41\n",
       "original nook        38\n",
       "the nook             38\n",
       "nook simple          37\n",
       "nook kindle          36\n",
       "work fine            35\n",
       "page turn            34\n",
       "easy install         34\n",
       "much better          33\n",
       "google play          33\n",
       "kindle nook          33\n",
       "buy book             32\n",
       "dtype: int64"
      ]
     },
     "execution_count": 31,
     "metadata": {},
     "output_type": "execute_result"
    }
   ],
   "source": [
    "top_25_bigrams = DTM.sum().sort_values(ascending = False).head(25)\n",
    "top_25_bigrams"
   ]
  },
  {
   "cell_type": "code",
   "execution_count": 32,
   "metadata": {},
   "outputs": [
    {
     "data": {
      "image/png": "[encoded data removed]",
      "text/plain": [
       "<Figure size 1152x576 with 1 Axes>"
      ]
     },
     "metadata": {
      "needs_background": "light"
     },
     "output_type": "display_data"
    }
   ],
   "source": [
    "top_25_bigrams.plot(kind = 'bar', figsize = (16,8))\n",
    "plt.show()"
   ]
  },
  {
   "cell_type": "code",
   "execution_count": 33,
   "metadata": {},
   "outputs": [],
   "source": [
    "#Find customer concern areas - the top 25 bigrams which includes the below negative words indicating the customer concern areas\n",
    "# 'poor', 'waste', 'bad', 'defective', 'disgusting', 'untrusty', 'worst', 'horrible', 'unexpectedly', 'slow'\n",
    "\n"
   ]
  },
  {
   "cell_type": "code",
   "execution_count": 34,
   "metadata": {},
   "outputs": [
    {
     "name": "stdout",
     "output_type": "stream",
     "text": [
      "Index(['00 100', '00 300', '00 believe', '00 best', '00 came', '00 dollar',\n",
      "       '00 free', '00 great', '00 hit', '00 hold',\n",
      "       ...\n",
      "       'zoom touch', 'zoom type', 'zoom update', 'zoom use', 'zooming awkward',\n",
      "       'zooming feature', 'zooming scrolling', 'zs15 photo', 'zune place',\n",
      "       'zune ve'],\n",
      "      dtype='object', length=55072)\n"
     ]
    }
   ],
   "source": [
    "bigrams = DTM.columns\n",
    "print(bigrams)"
   ]
  },
  {
   "cell_type": "code",
   "execution_count": 35,
   "metadata": {},
   "outputs": [],
   "source": [
    "negative_words = ['poor', 'waste', 'bad', 'defective', \n",
    "                  'disgusting', 'untrusty', 'worst', \n",
    "                  'horrible', 'unexpectedly', 'slow']"
   ]
  },
  {
   "cell_type": "code",
   "execution_count": 36,
   "metadata": {},
   "outputs": [],
   "source": [
    "negative_bigrams = []\n",
    "for i in bigrams:\n",
    "    words = i.split()\n",
    "    if sum(np.in1d(words, negative_words)) >= 1:\n",
    "        negative_bigrams.append(i)"
   ]
  },
  {
   "cell_type": "code",
   "execution_count": 37,
   "metadata": {},
   "outputs": [
    {
     "data": {
      "text/plain": [
       "waste money                 6\n",
       "the bad                     4\n",
       "slow respond                4\n",
       "bad review                  4\n",
       "defective nook              3\n",
       "bad say                     3\n",
       "poor contrast               3\n",
       "bad thing                   3\n",
       "bad really                  3\n",
       "little slow                 3\n",
       "bad experience              2\n",
       "defective product           2\n",
       "excruciatingly slow         2\n",
       "slow clunky                 2\n",
       "not bad                     2\n",
       "nothing bad                 2\n",
       "bad unit                    2\n",
       "bad nook                    2\n",
       "device defective            2\n",
       "poor customer               2\n",
       "poor battery                2\n",
       "poor quality                2\n",
       "overall bad                 2\n",
       "going bad                   2\n",
       "responsibility defective    2\n",
       "dtype: int64"
      ]
     },
     "execution_count": 37,
     "metadata": {},
     "output_type": "execute_result"
    }
   ],
   "source": [
    "DTM_subset = DTM[negative_bigrams]\n",
    "top_25_cutomer_concern_areas = DTM_subset.sum().sort_values(ascending = False).head(25)\n",
    "top_25_cutomer_concern_areas"
   ]
  },
  {
   "cell_type": "code",
   "execution_count": 38,
   "metadata": {},
   "outputs": [],
   "source": [
    "#Plot a bar graph for the top 25 customer concern areas"
   ]
  },
  {
   "cell_type": "code",
   "execution_count": 39,
   "metadata": {},
   "outputs": [
    {
     "data": {
      "text/plain": [
       "<matplotlib.axes._subplots.AxesSubplot at 0x12fc11190>"
      ]
     },
     "execution_count": 39,
     "metadata": {},
     "output_type": "execute_result"
    },
    {
     "data": {
      "image/png": "[encoded data removed]",
      "text/plain": [
       "<Figure size 1152x576 with 1 Axes>"
      ]
     },
     "metadata": {
      "needs_background": "light"
     },
     "output_type": "display_data"
    }
   ],
   "source": [
    "top_25_cutomer_concern_areas.plot(kind = 'bar', figsize = (16,8))"
   ]
  },
  {
   "cell_type": "code",
   "execution_count": null,
   "metadata": {},
   "outputs": [],
   "source": [
    "#Thank You"
   ]
  }
 ],
 "metadata": {
  "kernelspec": {
   "display_name": "Python 3",
   "language": "python",
   "name": "python3"
  },
  "language_info": {
   "codemirror_mode": {
    "name": "ipython",
    "version": 3
   },
   "file_extension": ".py",
   "mimetype": "text/x-python",
   "name": "python",
   "nbconvert_exporter": "python",
   "pygments_lexer": "ipython3",
   "version": "3.7.4"
  }
 },
 "nbformat": 4,
 "nbformat_minor": 2
}
